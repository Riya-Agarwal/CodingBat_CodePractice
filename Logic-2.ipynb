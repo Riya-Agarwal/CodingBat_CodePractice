{
 "cells": [
  {
   "cell_type": "code",
   "execution_count": null,
   "metadata": {
    "collapsed": true
   },
   "outputs": [],
   "source": [
    "#We want to make a row of bricks that is goal inches long. \n",
    "#We have a number of small bricks (1 inch each) and big bricks (5 inches each). \n",
    "#Return True if it is possible to make the goal by choosing from the given bricks. \n",
    "#This is a little harder than it looks and can be done without any loops.\n",
    "\n",
    "def make_bricks(small, big, goal):\n",
    "  if goal> small + big*5:\n",
    "    return False\n",
    "  else:\n",
    "    return goal%5 <= small"
   ]
  },
  {
   "cell_type": "code",
   "execution_count": null,
   "metadata": {
    "collapsed": true
   },
   "outputs": [],
   "source": [
    "#Given 3 int values, a b c, return their sum. \n",
    "#However, if one of the values is the same as another of the values, it does not count towards the sum.\n",
    "\n",
    "def lone_sum(a, b, c):\n",
    "  sum=0\n",
    "  if a not in [b, c]:\n",
    "    sum=sum+a\n",
    "  \n",
    "  if b not in [a,c]:\n",
    "    sum=sum+b\n",
    "  \n",
    "  if c not in [a,b]:\n",
    "    sum= sum+c\n",
    "\n",
    "  return sum"
   ]
  },
  {
   "cell_type": "code",
   "execution_count": null,
   "metadata": {
    "collapsed": true
   },
   "outputs": [],
   "source": [
    "#Given 3 int values, a b c, return their sum. \n",
    "#However, if one of the values is 13 then it does not count towards the sum and values to its right do not count. \n",
    "#So for example, if b is 13, then both b and c do not count.\n",
    "\n",
    "def lucky_sum(a, b, c):\n",
    "  sum=0\n",
    "  \n",
    "  if 13 in [a,b,c]:\n",
    "    if a==13:\n",
    "      sum=0\n",
    "    elif b==13:\n",
    "      sum=a\n",
    "    elif c==13:\n",
    "      sum=a+b\n",
    "\n",
    "  else:\n",
    "    sum=a+b+c\n",
    "    \n",
    "  return sum"
   ]
  },
  {
   "cell_type": "code",
   "execution_count": null,
   "metadata": {
    "collapsed": true
   },
   "outputs": [],
   "source": [
    "#Given 3 int values, a b c, return their sum. \n",
    "#However, if any of the values is a teen -- in the range 13..19 inclusive -- then that value counts as 0, except 15 and 16 do not count as a teens. \n",
    "#Write a separate helper \"def fix_teen(n):\"that takes in an int value and returns that value fixed for the teen rule. \n",
    "#In this way, you avoid repeating the teen code 3 times (i.e. \"decomposition\"). \n",
    "#Define the helper below and at the same indent level as the main no_teen_sum().\n",
    "\n",
    "def no_teen_sum(a, b, c):\n",
    "  def fix_teen(n):\n",
    "    if n not in [13,14,17,18,19]:\n",
    "      return n\n",
    "    else:\n",
    "      return 0\n",
    "  \n",
    "  return fix_teen(a)+fix_teen(b)+fix_teen(c)"
   ]
  },
  {
   "cell_type": "code",
   "execution_count": null,
   "metadata": {
    "collapsed": true
   },
   "outputs": [],
   "source": [
    "#For this problem, we'll round an int value up to the next multiple of 10 if its rightmost digit is 5 or more, so 15 rounds up to 20. \n",
    "#Alternately, round down to the previous multiple of 10 if its rightmost digit is less than 5, so 12 rounds down to 10. \n",
    "#Given 3 ints, a b c, return the sum of their rounded values. \n",
    "#To avoid code repetition, write a separate helper \"def round10(num):\" and call it 3 times. \n",
    "#Write the helper entirely below and at the same indent level as round_sum().\n",
    "\n",
    "def round_sum(a, b, c):\n",
    "  def round10(num):\n",
    "    if num%10 >=5:\n",
    "      num = num + (10-(num%10))\n",
    "    else:\n",
    "      num= num - (num%10)\n",
    "    return num\n",
    "  \n",
    "  return round10(a)+ round10(b)+ round10(c)"
   ]
  },
  {
   "cell_type": "code",
   "execution_count": null,
   "metadata": {
    "collapsed": true
   },
   "outputs": [],
   "source": [
    "#Given three ints, a b c, return True if one of b or c is \"close\" (differing from a by at most 1), while the other is \"far\", differing from both other values by 2 or more. \n",
    "#Note: abs(num) computes the absolute value of a number.\n",
    "\n",
    "def close_far(a, b, c):\n",
    "  if abs(a-b)<=1 or abs(a-c)<=1:\n",
    "    return (abs(a-c)>=2 and abs(b-c)>=2) or (abs(a-b)>=2 and abs(c-b) >=2)\n",
    "  else:\n",
    "    return False"
   ]
  },
  {
   "cell_type": "code",
   "execution_count": null,
   "metadata": {
    "collapsed": true
   },
   "outputs": [],
   "source": [
    "#We want make a package of goal kilos of chocolate. We have small bars (1 kilo each) and big bars (5 kilos each). \n",
    "#Return the number of small bars to use, assuming we always use big bars before small bars. \n",
    "#Return -1 if it can't be done.\n",
    "\n",
    "def make_chocolate(small, big, goal):\n",
    "  big_size=5\n",
    "  s= goal- (min(big, int(goal/big_size))*5)\n",
    "  if s<=small:\n",
    "    return s\n",
    "  else:\n",
    "    return -1"
   ]
  }
 ],
 "metadata": {
  "kernelspec": {
   "display_name": "Python 3",
   "language": "python",
   "name": "python3"
  },
  "language_info": {
   "codemirror_mode": {
    "name": "ipython",
    "version": 3
   },
   "file_extension": ".py",
   "mimetype": "text/x-python",
   "name": "python",
   "nbconvert_exporter": "python",
   "pygments_lexer": "ipython3",
   "version": "3.6.2"
  }
 },
 "nbformat": 4,
 "nbformat_minor": 2
}
