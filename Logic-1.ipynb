{
 "cells": [
  {
   "cell_type": "code",
   "execution_count": null,
   "metadata": {
    "collapsed": true
   },
   "outputs": [],
   "source": [
    "#When squirrels get together for a party, they like to have cigars. \n",
    "#A squirrel party is successful when the number of cigars is between 40 and 60, inclusive. \n",
    "#Unless it is the weekend, in which case there is no upper bound on the number of cigars. \n",
    "#Return True if the party with the given values is successful, or False otherwise.\n",
    "\n",
    "def cigar_party(cigars, is_weekend):\n",
    "  if is_weekend:\n",
    "    return (cigars>=40)\n",
    "  else:\n",
    "    return (cigars >=40 and cigars <=60)"
   ]
  },
  {
   "cell_type": "code",
   "execution_count": null,
   "metadata": {
    "collapsed": true
   },
   "outputs": [],
   "source": [
    "#You and your date are trying to get a table at a restaurant. The parameter \"you\" is the stylishness of your clothes, in the range 0..10, and \"date\" is the stylishness of your date's clothes. \n",
    "#The result getting the table is encoded as an int value with 0=no, 1=maybe, 2=yes. \n",
    "#If either of you is very stylish, 8 or more, then the result is 2 (yes). With the exception that if either of you has style of 2 or less, then the result is 0 (no). \n",
    "#Otherwise the result is 1 (maybe).\n",
    "\n",
    "def date_fashion(you, date):\n",
    "  if you<=2 or date<=2:\n",
    "    return 0\n",
    "  elif you>=8 or date>=8:\n",
    "    return 2\n",
    "  else:\n",
    "    return 1"
   ]
  },
  {
   "cell_type": "code",
   "execution_count": null,
   "metadata": {
    "collapsed": true
   },
   "outputs": [],
   "source": [
    "#The squirrels in Palo Alto spend most of the day playing. In particular, they play if the temperature is between 60 and 90 (inclusive). Unless it is summer, then the upper limit is 100 instead of 90. \n",
    "#Given an int temperature and a boolean is_summer, return True if the squirrels play and False otherwise.\n",
    "\n",
    "def squirrel_play(temp, is_summer):\n",
    "  if is_summer:\n",
    "    return temp>=60 and temp<=100\n",
    "  else:\n",
    "    return temp>=60 and temp<=90"
   ]
  },
  {
   "cell_type": "code",
   "execution_count": null,
   "metadata": {
    "collapsed": true
   },
   "outputs": [],
   "source": [
    "#You are driving a little too fast, and a police officer stops you. \n",
    "#Write code to compute the result, encoded as an int value: 0=no ticket, 1=small ticket, 2=big ticket. \n",
    "#If speed is 60 or less, the result is 0. If speed is between 61 and 80 inclusive, the result is 1. \n",
    "#If speed is 81 or more, the result is 2. Unless it is your birthday -- on that day, your speed can be 5 higher in all cases.\n",
    "\n",
    "def caught_speeding(speed, is_birthday):\n",
    "  your_speeding= speed- (65 if is_birthday else 60)\n",
    "  if your_speeding>20:\n",
    "    return 2\n",
    "  elif your_speeding>0:\n",
    "    return 1\n",
    "  else:\n",
    "    return 0    "
   ]
  },
  {
   "cell_type": "code",
   "execution_count": null,
   "metadata": {
    "collapsed": true
   },
   "outputs": [],
   "source": [
    "#Given 2 ints, a and b, return their sum. However, sums in the range 10..19 inclusive, are forbidden, so in that case just return 20.\n",
    "\n",
    "def sorta_sum(a, b):\n",
    "  sum= a+b\n",
    "  if sum>=10 and sum<=19:\n",
    "    return 20\n",
    "  else:\n",
    "    return sum"
   ]
  },
  {
   "cell_type": "code",
   "execution_count": null,
   "metadata": {
    "collapsed": true
   },
   "outputs": [],
   "source": [
    "#Given a day of the week encoded as 0=Sun, 1=Mon, 2=Tue, ...6=Sat, and a boolean indicating if we are on vacation, return a string of the form \"7:00\" indicating when the alarm clock should ring. \n",
    "#Weekdays, the alarm should be \"7:00\" and on the weekend it should be \"10:00\". Unless we are on vacation -- then on weekdays it should be \"10:00\" and weekends it should be \"off\".\n",
    "\n",
    "def alarm_clock(day, vacation):\n",
    "  if vacation:\n",
    "    if day>=1 and day<=5:\n",
    "      return \"10:00\"\n",
    "    if day==6 or day==0:\n",
    "      return \"off\"\n",
    "  \n",
    "  else:\n",
    "    if day>=1 and day<=5:\n",
    "      return \"7:00\"\n",
    "    if day==6 or day==0:\n",
    "      return \"10:00\""
   ]
  },
  {
   "cell_type": "code",
   "execution_count": null,
   "metadata": {
    "collapsed": true
   },
   "outputs": [],
   "source": [
    "#The number 6 is a truly great number. Given two int values, a and b, return True if either one is 6. \n",
    "#Or if their sum or difference is 6. Note: the function abs(num) computes the absolute value of a number.\n",
    "\n",
    "def love6(a, b):\n",
    "  if a==6 or b==6 or a+b==6 or abs(a-b)==6:\n",
    "    return True\n",
    "  else:\n",
    "    return False"
   ]
  },
  {
   "cell_type": "code",
   "execution_count": null,
   "metadata": {
    "collapsed": true
   },
   "outputs": [],
   "source": [
    "#Given a number n, return True if n is in the range 1..10, inclusive. \n",
    "#Unless outside_mode is True, in which case return True if the number is less or equal to 1, or greater or equal to 10.\n",
    "\n",
    "def in1to10(n, outside_mode):\n",
    "  if outside_mode:\n",
    "    return (n<=1 or n>=10)\n",
    "  else:\n",
    "    return (n>=1 and n<=10)"
   ]
  },
  {
   "cell_type": "code",
   "execution_count": null,
   "metadata": {
    "collapsed": true
   },
   "outputs": [],
   "source": [
    "#Given a non-negative number \"num\", return True if num is within 2 of a multiple of 10. \n",
    "#Note: (a % b) is the remainder of dividing a by b, so (7 % 5) is 2. \n",
    "\n",
    "def near_ten(num):\n",
    "   return ((num-2)%10==0 or (num+2)%10==0 or (num-1)%10==0 or (num+1)%10==0 or num%10==0)"
   ]
  }
 ],
 "metadata": {
  "kernelspec": {
   "display_name": "Python 3",
   "language": "python",
   "name": "python3"
  },
  "language_info": {
   "codemirror_mode": {
    "name": "ipython",
    "version": 3
   },
   "file_extension": ".py",
   "mimetype": "text/x-python",
   "name": "python",
   "nbconvert_exporter": "python",
   "pygments_lexer": "ipython3",
   "version": "3.6.2"
  }
 },
 "nbformat": 4,
 "nbformat_minor": 2
}
