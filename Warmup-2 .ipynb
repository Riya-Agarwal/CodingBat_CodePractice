{
 "cells": [
  {
   "cell_type": "code",
   "execution_count": null,
   "metadata": {
    "collapsed": true
   },
   "outputs": [],
   "source": [
    "#Given a string and a non-negative int n, return a larger string that is n copies of the original string.\n",
    "def string_times(str, n):\n",
    "  return str*n"
   ]
  },
  {
   "cell_type": "code",
   "execution_count": null,
   "metadata": {
    "collapsed": true
   },
   "outputs": [],
   "source": [
    "#Given a string and a non-negative int n, we'll say that the front of the string is the first 3 chars, or whatever is there if the string is less than length 3. \n",
    "#Return n copies of the front;\n",
    "def front_times(str, n):\n",
    "  if len(str)<=3:\n",
    "    return str*n\n",
    "  else:\n",
    "    front= str[:3]\n",
    "    return front*n"
   ]
  },
  {
   "cell_type": "code",
   "execution_count": null,
   "metadata": {
    "collapsed": true
   },
   "outputs": [],
   "source": [
    "#Given a string, return a new string made of every other char starting with the first, so \"Hello\" yields \"Hlo\".\n",
    "def string_bits(str):\n",
    "  return str[::2]"
   ]
  },
  {
   "cell_type": "code",
   "execution_count": null,
   "metadata": {
    "collapsed": true
   },
   "outputs": [],
   "source": [
    "# Given a non-empty string like \"Code\" return a string like \"CCoCodCode\".\n",
    "def string_splosion(str):\n",
    "  result=\"\"\n",
    "  for i in range(len(str)):\n",
    "    result= result+ str[:i+1]\n",
    "  return result"
   ]
  },
  {
   "cell_type": "code",
   "execution_count": null,
   "metadata": {
    "collapsed": true
   },
   "outputs": [],
   "source": [
    "# Given a string, return the count of the number of times that a substring length 2 appears in the string and also as the last 2 chars of the string, so \"hixxxhi\" yields 1 (we won't count the end substring).\n",
    "def last2(str):\n",
    "  if len(str)<2:\n",
    "    return 0\n",
    "  \n",
    "  last2= str[-2:]\n",
    "  count=0\n",
    "  \n",
    "  for i in range(len(str)-2):\n",
    "    sub= str[i:i+2]\n",
    "    if sub== last2:\n",
    "      count +=1\n",
    "  return count\n"
   ]
  },
  {
   "cell_type": "code",
   "execution_count": null,
   "metadata": {
    "collapsed": true
   },
   "outputs": [],
   "source": [
    "# Given an array of ints, return the number of 9's in the array.\n",
    "def array_count9(nums):\n",
    "  count=0\n",
    "  for num in nums:\n",
    "    if num==9:\n",
    "      count=count+1\n",
    "  return count"
   ]
  },
  {
   "cell_type": "code",
   "execution_count": null,
   "metadata": {
    "collapsed": true
   },
   "outputs": [],
   "source": [
    "#Given an array of ints, return True if one of the first 4 elements in the array is a 9. \n",
    "#The array length may be less than 4.\n",
    "def array_front9(nums):\n",
    "  end= len(nums)\n",
    "  if end>4:\n",
    "    end=4\n",
    "    \n",
    "  for i in range(end):\n",
    "    if nums[i]==9:\n",
    "      return True\n",
    "  return False"
   ]
  },
  {
   "cell_type": "code",
   "execution_count": null,
   "metadata": {
    "collapsed": true
   },
   "outputs": [],
   "source": [
    "#Given an array of ints, return True if the sequence of numbers 1, 2, 3 appears in the array somewhere.\n",
    "def array123(nums):\n",
    "  for i in range(len(nums)-2):\n",
    "    if nums[i]==1 and nums[i+1]==2 and nums[i+2]==3:\n",
    "      return True\n",
    "  return False"
   ]
  },
  {
   "cell_type": "code",
   "execution_count": null,
   "metadata": {
    "collapsed": true
   },
   "outputs": [],
   "source": [
    "# Given 2 strings, a and b, return the number of the positions where they contain the same length 2 substring. \n",
    "# So \"xxcaazz\" and \"xxbaaz\" yields 3, since the \"xx\", \"aa\", and \"az\" substrings appear in the same place in both strings.\n",
    "def string_match(a, b):\n",
    "  shorter= min(len(a), len(b))\n",
    "  count=0\n",
    "  \n",
    "  for i in range(shorter-1):\n",
    "    a_sub=a[i:i+2]\n",
    "    b_sub=b[i:i+2]\n",
    "    if a_sub== b_sub:\n",
    "      count=count+1\n",
    "      \n",
    "  return count"
   ]
  }
 ],
 "metadata": {
  "kernelspec": {
   "display_name": "Python 3",
   "language": "python",
   "name": "python3"
  },
  "language_info": {
   "codemirror_mode": {
    "name": "ipython",
    "version": 3
   },
   "file_extension": ".py",
   "mimetype": "text/x-python",
   "name": "python",
   "nbconvert_exporter": "python",
   "pygments_lexer": "ipython3",
   "version": "3.6.2"
  }
 },
 "nbformat": 4,
 "nbformat_minor": 2
}
