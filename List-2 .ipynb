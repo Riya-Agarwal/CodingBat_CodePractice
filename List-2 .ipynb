{
 "cells": [
  {
   "cell_type": "code",
   "execution_count": null,
   "metadata": {
    "collapsed": true
   },
   "outputs": [],
   "source": [
    "#Return the number of even ints in the given array. Note: the % \"mod\" operator computes the remainder, e.g. 5 % 2 is 1.\n",
    "\n",
    "def count_evens(nums):\n",
    "  count=0\n",
    "  for i in range(len(nums)):\n",
    "    if nums[i]%2==0:\n",
    "      count +=1\n",
    "  \n",
    "  return count"
   ]
  },
  {
   "cell_type": "code",
   "execution_count": null,
   "metadata": {
    "collapsed": true
   },
   "outputs": [],
   "source": [
    "#Given an array length 1 or more of ints, return the difference between the largest and smallest values in the array. \n",
    "#Note: the built-in min(v1, v2) and max(v1, v2) functions return the smaller or larger of two values.\n",
    "\n",
    "def big_diff(nums):\n",
    "  max_num=max(nums)\n",
    "  min_num=min(nums)\n",
    "  return max_num-min_num"
   ]
  },
  {
   "cell_type": "code",
   "execution_count": null,
   "metadata": {
    "collapsed": true
   },
   "outputs": [],
   "source": [
    "#Return the \"centered\" average of an array of ints, which we'll say is the mean average of the values, except ignoring the largest and smallest values in the array. \n",
    "#If there are multiple copies of the smallest value, ignore just one copy, and likewise for the largest value. \n",
    "#Use int division to produce the final average. You may assume that the array is length 3 or more.\n",
    "\n",
    "def centered_average(nums):\n",
    "  max_num= max(nums)\n",
    "  min_num=min(nums)\n",
    "  average= (sum(nums)-max_num-min_num)/(len(nums)-2)\n",
    "  \n",
    "  return average"
   ]
  },
  {
   "cell_type": "code",
   "execution_count": null,
   "metadata": {
    "collapsed": true
   },
   "outputs": [],
   "source": [
    "#Return the sum of the numbers in the array, returning 0 for an empty array. \n",
    "#Except the number 13 is very unlucky, so it does not count and numbers that come immediately after a 13 also do not count.\n",
    "\n",
    "def sum13(nums):\n",
    "  total=0\n",
    "  i=0\n",
    "  \n",
    "  while i<len(nums):\n",
    "    if nums[i]==13:\n",
    "      i +=2 \n",
    "      continue\n",
    "    total=total+nums[i]\n",
    "    i +=1\n",
    "    \n",
    "  return total"
   ]
  },
  {
   "cell_type": "code",
   "execution_count": null,
   "metadata": {
    "collapsed": true
   },
   "outputs": [],
   "source": [
    "#Return the sum of the numbers in the array, except ignore sections of numbers starting with a 6 and extending to the next 7 (every 6 will be followed by at least one 7). \n",
    "#Return 0 for no numbers.\n",
    "\n",
    "def sum67(nums):\n",
    "  while 6 in nums:\n",
    "    i=nums.index(6)\n",
    "    j=nums.index(7,i)\n",
    "    del nums[i:j+1]\n",
    "  return sum(nums)"
   ]
  },
  {
   "cell_type": "code",
   "execution_count": null,
   "metadata": {
    "collapsed": true
   },
   "outputs": [],
   "source": [
    "#Given an array of ints, return True if the array contains a 2 next to a 2 somewhere.\n",
    "\n",
    "def has22(nums):\n",
    "  for i in range(len(nums)-1):\n",
    "    if nums[i]==2 and nums[i+1]==2:\n",
    "      return True\n",
    "  \n",
    "  return False"
   ]
  }
 ],
 "metadata": {
  "kernelspec": {
   "display_name": "Python 3",
   "language": "python",
   "name": "python3"
  },
  "language_info": {
   "codemirror_mode": {
    "name": "ipython",
    "version": 3
   },
   "file_extension": ".py",
   "mimetype": "text/x-python",
   "name": "python",
   "nbconvert_exporter": "python",
   "pygments_lexer": "ipython3",
   "version": "3.6.2"
  }
 },
 "nbformat": 4,
 "nbformat_minor": 2
}
