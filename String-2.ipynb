{
 "cells": [
  {
   "cell_type": "code",
   "execution_count": null,
   "metadata": {
    "collapsed": true
   },
   "outputs": [],
   "source": [
    "#Given a string, return a string where for every char in the original, there are two chars.\n",
    "\n",
    "def double_char(str):\n",
    "  string=\"\"\n",
    "  a=list(str)\n",
    "  for i in range(len(a)):\n",
    "    string=string+a[i]*2\n",
    "  return string"
   ]
  },
  {
   "cell_type": "code",
   "execution_count": null,
   "metadata": {
    "collapsed": true
   },
   "outputs": [],
   "source": [
    "#Return the number of times that the string \"hi\" appears anywhere in the given string.\n",
    "\n",
    "def count_hi(str):\n",
    "  count=0\n",
    "  for i in range(len(str)-1):\n",
    "    if str[i]==\"h\"and str[i+1]==\"i\":\n",
    "      count +=1\n",
    "  return count"
   ]
  },
  {
   "cell_type": "code",
   "execution_count": null,
   "metadata": {
    "collapsed": true
   },
   "outputs": [],
   "source": [
    "#Return True if the string \"cat\" and \"dog\" appear the same number of times in the given string.\n",
    "\n",
    "def cat_dog(str):\n",
    "  count_cat=0\n",
    "  count_dog=0\n",
    "  for i in range(len(str)-2):\n",
    "    if str[i]==\"c\" and str[i+1]==\"a\" and str[i+2]==\"t\":\n",
    "      count_cat +=1\n",
    "    if str[i]==\"d\" and str[i+1]==\"o\" and str[i+2]==\"g\":\n",
    "      count_dog +=1\n",
    "  \n",
    "  if count_cat==count_dog:\n",
    "    return True\n",
    "  else:\n",
    "    return False"
   ]
  },
  {
   "cell_type": "code",
   "execution_count": null,
   "metadata": {
    "collapsed": true
   },
   "outputs": [],
   "source": [
    "#Return the number of times that the string \"code\" appears anywhere in the given string, except we'll accept any letter for the 'd', so \"cope\" and \"cooe\" count.\n",
    "\n",
    "def count_code(str):\n",
    "  count=0\n",
    "  for i in range(len(str)-3):\n",
    "    if str[i]==\"c\" and str[i+1]==\"o\"and str[i+3]==\"e\":\n",
    "      count +=1 \n",
    "  return count"
   ]
  },
  {
   "cell_type": "code",
   "execution_count": null,
   "metadata": {
    "collapsed": true
   },
   "outputs": [],
   "source": [
    "#Given two strings, return True if either of the strings appears at the very end of the other string, ignoring upper/lower case differences (in other words, the computation should not be \"case sensitive\"). Note: s.lower() returns the lowercase version of a string.\n",
    "\n",
    "def end_other(a, b):\n",
    "  a=a.lower()\n",
    "  b=b.lower()\n",
    "  return (b.endswith(a) or a.endswith(b))"
   ]
  },
  {
   "cell_type": "code",
   "execution_count": null,
   "metadata": {
    "collapsed": true
   },
   "outputs": [],
   "source": [
    "#Return True if the given string contains an appearance of \"xyz\" where the xyz is not directly preceeded by a period (.). \n",
    "# So \"xxyz\" counts but \"x.xyz\" does not.\n",
    "\n",
    "def xyz_there(str):\n",
    "  if str[:3]==\"xyz\":\n",
    "    return True\n",
    "    \n",
    "  for i in range(1, len(str)-2):\n",
    "    if str[i-1]!=\".\" and str[i:i+3]==\"xyz\":\n",
    "      return True\n",
    "    \n",
    "  return False"
   ]
  }
 ],
 "metadata": {
  "kernelspec": {
   "display_name": "Python 3",
   "language": "python",
   "name": "python3"
  },
  "language_info": {
   "codemirror_mode": {
    "name": "ipython",
    "version": 3
   },
   "file_extension": ".py",
   "mimetype": "text/x-python",
   "name": "python",
   "nbconvert_exporter": "python",
   "pygments_lexer": "ipython3",
   "version": "3.6.2"
  }
 },
 "nbformat": 4,
 "nbformat_minor": 2
}
