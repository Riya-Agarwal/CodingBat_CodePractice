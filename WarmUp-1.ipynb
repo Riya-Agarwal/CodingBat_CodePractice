{
 "cells": [
  {
   "cell_type": "code",
   "execution_count": null,
   "metadata": {
    "collapsed": true
   },
   "outputs": [],
   "source": [
    "#The parameter weekday is True if it is a weekday, and the parameter vacation is True if we are on vacation. \n",
    "#We sleep in if it is not a weekday or we're on vacation. Return True if we sleep in.\n",
    "\n",
    "def sleep_in(weekday, vacation):\n",
    "  if not weekday or vacation:\n",
    "    return True\n",
    "  else:\n",
    "    return False"
   ]
  },
  {
   "cell_type": "code",
   "execution_count": null,
   "metadata": {
    "collapsed": true
   },
   "outputs": [],
   "source": [
    "# We have two monkeys, a and b, and the parameters a_smile and b_smile indicate if each is smiling. \n",
    "#We are in trouble if they are both smiling or if neither of them is smiling. Return True if we are in trouble.\n",
    "\n",
    "def monkey_trouble(a_smile, b_smile):\n",
    "  if a_smile and b_smile:\n",
    "    return True\n",
    "  if not a_smile and not b_smile:\n",
    "    return True\n",
    "  return False"
   ]
  },
  {
   "cell_type": "code",
   "execution_count": null,
   "metadata": {
    "collapsed": true
   },
   "outputs": [],
   "source": [
    "#Given two int values, return their sum. Unless the two values are the same, then return double their sum.\n",
    "\n",
    "def sum_double(a, b):\n",
    "  sum= a+b\n",
    "  \n",
    "  if a==b:\n",
    "    sum= sum*2\n",
    "  return sum"
   ]
  },
  {
   "cell_type": "code",
   "execution_count": null,
   "metadata": {
    "collapsed": true
   },
   "outputs": [],
   "source": [
    "# Given an int n, return the absolute difference between n and 21, except return double the absolute difference if n is over 21.\n",
    "\n",
    "def diff21(n):\n",
    "  if n<=21:\n",
    "    return 21-n\n",
    "  else:\n",
    "    return(n-21)*2"
   ]
  },
  {
   "cell_type": "code",
   "execution_count": null,
   "metadata": {
    "collapsed": true
   },
   "outputs": [],
   "source": [
    "# We have a loud talking parrot.\n",
    "#The \"hour\" parameter is the current hour time in the range 0..23. \n",
    "#We are in trouble if the parrot is talking and the hour is before 7 or after 20. Return True if we are in trouble.\n",
    "\n",
    "def parrot_trouble(talking, hour):\n",
    "  if talking and (hour<7 or hour>20):\n",
    "    return True\n",
    "  else:\n",
    "    return False"
   ]
  },
  {
   "cell_type": "code",
   "execution_count": null,
   "metadata": {
    "collapsed": true
   },
   "outputs": [],
   "source": [
    "# Given 2 ints, a and b, return True if one if them is 10 or if their sum is 10.\n",
    "\n",
    "def makes10(a, b):\n",
    "  return((a==10 or b==10) or (a+b==10))"
   ]
  },
  {
   "cell_type": "code",
   "execution_count": null,
   "metadata": {
    "collapsed": true
   },
   "outputs": [],
   "source": [
    "#Given an int n, return True if it is within 10 of 100 or 200. Note: abs(num) computes the absolute value of a number.\n",
    "\n",
    "def near_hundred(n):\n",
    "   return ((abs(100-n)<=10) or (abs(200-n)<=10))\n"
   ]
  },
  {
   "cell_type": "code",
   "execution_count": null,
   "metadata": {
    "collapsed": true
   },
   "outputs": [],
   "source": [
    "#Given 2 int values, return True if one is negative and one is positive. \n",
    "#Except if the parameter \"negative\" is True, then return True only if both are negative.\n",
    "\n",
    "def pos_neg(a, b, negative):\n",
    "  if negative:\n",
    "    return(a<0 and b<0)\n",
    "  else:\n",
    "    return ((a<0 and b>0) or (a>0 and b<0))"
   ]
  },
  {
   "cell_type": "code",
   "execution_count": null,
   "metadata": {
    "collapsed": true
   },
   "outputs": [],
   "source": [
    "# Given a string, return a new string where \"not \" has been added to the front. \n",
    "#However, if the string already begins with \"not\", return the string unchanged.\n",
    "\n",
    "def not_string(str):\n",
    "  if len(str)>=3 and str[:3]==\"not\":\n",
    "    return str\n",
    "  return \"not \"+ str"
   ]
  },
  {
   "cell_type": "code",
   "execution_count": null,
   "metadata": {
    "collapsed": true
   },
   "outputs": [],
   "source": [
    "#Given a non-empty string and an int n, return a new string where the char at index n has been removed. \n",
    "#The value of n will be a valid index of a char in the original string (i.e. n will be in the range 0..len(str)-1 inclusive).\n",
    "\n",
    "def missing_char(str, n):\n",
    "  return str[:n]+str[n+1:]"
   ]
  },
  {
   "cell_type": "code",
   "execution_count": null,
   "metadata": {
    "collapsed": true
   },
   "outputs": [],
   "source": [
    "# Given a string, return a new string where the first and last chars have been exchanged.\n",
    "def front_back(str):\n",
    "  if len(str)<=1:\n",
    "    return str\n",
    "  \n",
    "  mid= str[1:-1]\n",
    "  \n",
    "  return str[-1]+ mid + str[0]"
   ]
  },
  {
   "cell_type": "code",
   "execution_count": null,
   "metadata": {
    "collapsed": true
   },
   "outputs": [],
   "source": [
    "#Given a string, we'll say that the front is the first 3 chars of the string. \n",
    "#If the string length is less than 3, the front is whatever is there. \n",
    "#Return a new string which is 3 copies of the front.\n",
    "def front3(str):\n",
    "  if len(str)<=3:\n",
    "    return str*3\n",
    "  else:\n",
    "    front=str[:3]\n",
    "    return front*3"
   ]
  }
 ],
 "metadata": {
  "kernelspec": {
   "display_name": "Python 3",
   "language": "python",
   "name": "python3"
  },
  "language_info": {
   "codemirror_mode": {
    "name": "ipython",
    "version": 3
   },
   "file_extension": ".py",
   "mimetype": "text/x-python",
   "name": "python",
   "nbconvert_exporter": "python",
   "pygments_lexer": "ipython3",
   "version": "3.6.2"
  }
 },
 "nbformat": 4,
 "nbformat_minor": 2
}
